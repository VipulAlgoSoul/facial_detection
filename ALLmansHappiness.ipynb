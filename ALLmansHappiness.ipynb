{
 "cells": [
  {
   "cell_type": "code",
   "execution_count": 2,
   "metadata": {},
   "outputs": [],
   "source": [
    "import cv2\n",
    "import numpy as np\n",
    "\n",
    "face_cascade = cv2.CascadeClassifier('haarcascade_frontalface_default.xml')\n",
    "\n",
    "eye_cascade = cv2.CascadeClassifier('haarcascade_lefteye_2splits.xml')\n"
   ]
  },
  {
   "cell_type": "code",
   "execution_count": 3,
   "metadata": {},
   "outputs": [],
   "source": [
    "cap=cv2.VideoCapture(\"ALLmanHappines.mp4\")\n",
    "\n",
    "while(cap.isOpened()):\n",
    "    ret,frame_cl= cap.read()\n",
    "    if not ret:\n",
    "        break\n",
    "        \n",
    "    frame_gr=cv2.cvtColor(frame_cl,cv2.COLOR_BGR2GRAY)\n",
    "    #print(frame_gr.shape)\n",
    "    faces = face_cascade.detectMultiScale(frame_gr, scaleFactor=1.3, minNeighbors=5)\n",
    "    #(image, scaleFactor = 1.5, minNeighbors = 5)\n",
    "    for (x,y,w,h) in faces:\n",
    "        cv2.rectangle(frame_cl,(x,y),(x+w,y+h),(255,0,0),2)\n",
    "        #put text\n",
    "        roi_gray = frame_gr[y:y+h, x:x+w]\n",
    "        roi_color = frame_cl[y:y+h, x:x+w]\n",
    "        eyes = eye_cascade.detectMultiScale(roi_gray)\n",
    "        for (ex,ey,ew,eh) in eyes:\n",
    "            cv2.rectangle(roi_color,(ex,ey),(ex+ew,ey+eh),(0,255,0),2)\n",
    "        \n",
    "       \n",
    "    cv2.imshow(\"frame\",frame_cl)\n",
    "    if cv2.waitKey(10) & 0xFF==ord(\"q\"):\n",
    "        break\n",
    "cap.release()\n",
    "cv2.destroyAllWindows()"
   ]
  },
  {
   "cell_type": "code",
   "execution_count": null,
   "metadata": {},
   "outputs": [],
   "source": []
  }
 ],
 "metadata": {
  "kernelspec": {
   "display_name": "Python 3",
   "language": "python",
   "name": "python3"
  },
  "language_info": {
   "codemirror_mode": {
    "name": "ipython",
    "version": 3
   },
   "file_extension": ".py",
   "mimetype": "text/x-python",
   "name": "python",
   "nbconvert_exporter": "python",
   "pygments_lexer": "ipython3",
   "version": "3.6.10"
  }
 },
 "nbformat": 4,
 "nbformat_minor": 4
}
